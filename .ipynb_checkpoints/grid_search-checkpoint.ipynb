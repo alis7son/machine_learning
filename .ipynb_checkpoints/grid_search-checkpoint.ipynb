{
 "cells": [
  {
   "cell_type": "markdown",
   "id": "romantic-blame",
   "metadata": {},
   "source": [
    "### Modelos baseados em árvores"
   ]
  },
  {
   "cell_type": "markdown",
   "id": "viral-forty",
   "metadata": {},
   "source": [
    "#### Vamos utilizar nesse projeto a metolologia Grid-Search"
   ]
  },
  {
   "cell_type": "markdown",
   "id": "interracial-performance",
   "metadata": {},
   "source": [
    "Modelos baseados em árvores de decisão principalmente os ensemble, como o Random Forest, acabam tendo muitos\n",
    "parâmetros. Escolhe-los de forma manual acaba sendo muito tedioso. __Pense num trabalho!!__<br><br>\n",
    "Vamos otimizar essa busca por hipeparâmetros através da metodologia __Grid-Search.__ Fazer um trabalho de preguiçoso, :), porém mais preciso!<br><br>\n",
    "Para esse caso iremos utilizar o famoso dataset das notas do Enem. Iremos prever a nota de Linguagens e Códigos."
   ]
  },
  {
   "cell_type": "code",
   "execution_count": 1,
   "id": "talented-insulation",
   "metadata": {},
   "outputs": [],
   "source": [
    "# Importando as biblitecas fundamentais\n",
    "import pandas as pd\n",
    "import numpy as np"
   ]
  },
  {
   "cell_type": "markdown",
   "id": "considered-ballot",
   "metadata": {},
   "source": [
    "#### Análise exploratória dos dados"
   ]
  },
  {
   "cell_type": "markdown",
   "id": "handled-malawi",
   "metadata": {},
   "source": [
    "Primeiro vamos analisar em geral o dataset, variáveis e instâncias."
   ]
  },
  {
   "cell_type": "code",
   "execution_count": 2,
   "id": "reverse-broadcasting",
   "metadata": {},
   "outputs": [],
   "source": [
    "df = pd.read_csv('enem_2018.csv')"
   ]
  },
  {
   "cell_type": "code",
   "execution_count": 3,
   "id": "spare-lover",
   "metadata": {},
   "outputs": [
    {
     "name": "stdout",
     "output_type": "stream",
     "text": [
      "<class 'pandas.core.frame.DataFrame'>\n",
      "RangeIndex: 137844 entries, 0 to 137843\n",
      "Columns: 138 entries, Unnamed: 0 to Q027\n",
      "dtypes: float64(30), int64(65), object(43)\n",
      "memory usage: 145.1+ MB\n"
     ]
    }
   ],
   "source": [
    "df.info()"
   ]
  },
  {
   "cell_type": "code",
   "execution_count": 4,
   "id": "informed-alaska",
   "metadata": {},
   "outputs": [
    {
     "data": {
      "text/plain": [
       "array(['Unnamed: 0', 'NU_INSCRICAO', 'NU_ANO', 'CO_MUNICIPIO_RESIDENCIA',\n",
       "       'NO_MUNICIPIO_RESIDENCIA', 'CO_UF_RESIDENCIA', 'SG_UF_RESIDENCIA',\n",
       "       'NU_IDADE', 'TP_SEXO', 'TP_ESTADO_CIVIL', 'TP_COR_RACA',\n",
       "       'TP_NACIONALIDADE', 'CO_MUNICIPIO_NASCIMENTO',\n",
       "       'NO_MUNICIPIO_NASCIMENTO', 'CO_UF_NASCIMENTO', 'SG_UF_NASCIMENTO',\n",
       "       'TP_ST_CONCLUSAO', 'TP_ANO_CONCLUIU', 'TP_ESCOLA', 'TP_ENSINO',\n",
       "       'IN_TREINEIRO', 'CO_ESCOLA', 'CO_MUNICIPIO_ESC',\n",
       "       'NO_MUNICIPIO_ESC', 'CO_UF_ESC', 'SG_UF_ESC',\n",
       "       'TP_DEPENDENCIA_ADM_ESC', 'TP_LOCALIZACAO_ESC', 'TP_SIT_FUNC_ESC',\n",
       "       'IN_BAIXA_VISAO', 'IN_CEGUEIRA', 'IN_SURDEZ',\n",
       "       'IN_DEFICIENCIA_AUDITIVA', 'IN_SURDO_CEGUEIRA',\n",
       "       'IN_DEFICIENCIA_FISICA', 'IN_DEFICIENCIA_MENTAL',\n",
       "       'IN_DEFICIT_ATENCAO', 'IN_DISLEXIA', 'IN_DISCALCULIA',\n",
       "       'IN_AUTISMO', 'IN_VISAO_MONOCULAR', 'IN_OUTRA_DEF', 'IN_GESTANTE',\n",
       "       'IN_LACTANTE', 'IN_IDOSO', 'IN_ESTUDA_CLASSE_HOSPITALAR',\n",
       "       'IN_SEM_RECURSO', 'IN_BRAILLE', 'IN_AMPLIADA_24', 'IN_AMPLIADA_18',\n",
       "       'IN_LEDOR', 'IN_ACESSO', 'IN_TRANSCRICAO', 'IN_LIBRAS',\n",
       "       'IN_LEITURA_LABIAL', 'IN_MESA_CADEIRA_RODAS',\n",
       "       'IN_MESA_CADEIRA_SEPARADA', 'IN_APOIO_PERNA', 'IN_GUIA_INTERPRETE',\n",
       "       'IN_COMPUTADOR', 'IN_CADEIRA_ESPECIAL', 'IN_CADEIRA_CANHOTO',\n",
       "       'IN_CADEIRA_ACOLCHOADA', 'IN_PROVA_DEITADO', 'IN_MOBILIARIO_OBESO',\n",
       "       'IN_LAMINA_OVERLAY', 'IN_PROTETOR_AURICULAR', 'IN_MEDIDOR_GLICOSE',\n",
       "       'IN_MAQUINA_BRAILE', 'IN_SOROBAN', 'IN_MARCA_PASSO', 'IN_SONDA',\n",
       "       'IN_MEDICAMENTOS', 'IN_SALA_INDIVIDUAL', 'IN_SALA_ESPECIAL',\n",
       "       'IN_SALA_ACOMPANHANTE', 'IN_MOBILIARIO_ESPECIFICO',\n",
       "       'IN_MATERIAL_ESPECIFICO', 'IN_NOME_SOCIAL', 'CO_MUNICIPIO_PROVA',\n",
       "       'NO_MUNICIPIO_PROVA', 'CO_UF_PROVA', 'SG_UF_PROVA',\n",
       "       'TP_PRESENCA_CN', 'TP_PRESENCA_CH', 'TP_PRESENCA_LC',\n",
       "       'TP_PRESENCA_MT', 'CO_PROVA_CN', 'CO_PROVA_CH', 'CO_PROVA_LC',\n",
       "       'CO_PROVA_MT', 'NU_NOTA_CN', 'NU_NOTA_CH', 'NU_NOTA_LC',\n",
       "       'NU_NOTA_MT', 'TX_RESPOSTAS_CN', 'TX_RESPOSTAS_CH',\n",
       "       'TX_RESPOSTAS_LC', 'TX_RESPOSTAS_MT', 'TP_LINGUA',\n",
       "       'TX_GABARITO_CN', 'TX_GABARITO_CH', 'TX_GABARITO_LC',\n",
       "       'TX_GABARITO_MT', 'TP_STATUS_REDACAO', 'NU_NOTA_COMP1',\n",
       "       'NU_NOTA_COMP2', 'NU_NOTA_COMP3', 'NU_NOTA_COMP4', 'NU_NOTA_COMP5',\n",
       "       'NU_NOTA_REDACAO', 'Q001', 'Q002', 'Q003', 'Q004', 'Q005', 'Q006',\n",
       "       'Q007', 'Q008', 'Q009', 'Q010', 'Q011', 'Q012', 'Q013', 'Q014',\n",
       "       'Q015', 'Q016', 'Q017', 'Q018', 'Q019', 'Q020', 'Q021', 'Q022',\n",
       "       'Q023', 'Q024', 'Q025', 'Q026', 'Q027'], dtype=object)"
      ]
     },
     "execution_count": 4,
     "metadata": {},
     "output_type": "execute_result"
    }
   ],
   "source": [
    "# ver as colunas\n",
    "df.columns.values"
   ]
  },
  {
   "cell_type": "markdown",
   "id": "promising-retirement",
   "metadata": {},
   "source": [
    "Primeiro vamos observar as correlações das variáveis com a nota de linguagens e códigos:"
   ]
  },
  {
   "cell_type": "code",
   "execution_count": 5,
   "id": "living-blend",
   "metadata": {},
   "outputs": [],
   "source": [
    "a = np.round(df.corr()['NU_NOTA_LC'],2)"
   ]
  },
  {
   "cell_type": "code",
   "execution_count": 6,
   "id": "victorian-contractor",
   "metadata": {},
   "outputs": [],
   "source": [
    "dff_cor = pd.DataFrame(a)"
   ]
  },
  {
   "cell_type": "code",
   "execution_count": 7,
   "id": "silent-basketball",
   "metadata": {},
   "outputs": [
    {
     "data": {
      "text/html": [
       "<div>\n",
       "<style scoped>\n",
       "    .dataframe tbody tr th:only-of-type {\n",
       "        vertical-align: middle;\n",
       "    }\n",
       "\n",
       "    .dataframe tbody tr th {\n",
       "        vertical-align: top;\n",
       "    }\n",
       "\n",
       "    .dataframe thead th {\n",
       "        text-align: right;\n",
       "    }\n",
       "</style>\n",
       "<table border=\"1\" class=\"dataframe\">\n",
       "  <thead>\n",
       "    <tr style=\"text-align: right;\">\n",
       "      <th></th>\n",
       "      <th>NU_NOTA_LC</th>\n",
       "    </tr>\n",
       "  </thead>\n",
       "  <tbody>\n",
       "    <tr>\n",
       "      <th>CO_MUNICIPIO_RESIDENCIA</th>\n",
       "      <td>0.15</td>\n",
       "    </tr>\n",
       "    <tr>\n",
       "      <th>CO_UF_RESIDENCIA</th>\n",
       "      <td>0.15</td>\n",
       "    </tr>\n",
       "    <tr>\n",
       "      <th>CO_MUNICIPIO_NASCIMENTO</th>\n",
       "      <td>0.16</td>\n",
       "    </tr>\n",
       "    <tr>\n",
       "      <th>CO_UF_NASCIMENTO</th>\n",
       "      <td>0.16</td>\n",
       "    </tr>\n",
       "    <tr>\n",
       "      <th>CO_ESCOLA</th>\n",
       "      <td>0.16</td>\n",
       "    </tr>\n",
       "    <tr>\n",
       "      <th>CO_MUNICIPIO_ESC</th>\n",
       "      <td>0.16</td>\n",
       "    </tr>\n",
       "    <tr>\n",
       "      <th>CO_UF_ESC</th>\n",
       "      <td>0.16</td>\n",
       "    </tr>\n",
       "    <tr>\n",
       "      <th>TP_DEPENDENCIA_ADM_ESC</th>\n",
       "      <td>0.31</td>\n",
       "    </tr>\n",
       "    <tr>\n",
       "      <th>CO_MUNICIPIO_PROVA</th>\n",
       "      <td>0.15</td>\n",
       "    </tr>\n",
       "    <tr>\n",
       "      <th>CO_UF_PROVA</th>\n",
       "      <td>0.15</td>\n",
       "    </tr>\n",
       "    <tr>\n",
       "      <th>TP_PRESENCA_CN</th>\n",
       "      <td>0.11</td>\n",
       "    </tr>\n",
       "    <tr>\n",
       "      <th>TP_PRESENCA_MT</th>\n",
       "      <td>0.11</td>\n",
       "    </tr>\n",
       "    <tr>\n",
       "      <th>NU_NOTA_CN</th>\n",
       "      <td>0.60</td>\n",
       "    </tr>\n",
       "    <tr>\n",
       "      <th>NU_NOTA_CH</th>\n",
       "      <td>0.70</td>\n",
       "    </tr>\n",
       "    <tr>\n",
       "      <th>NU_NOTA_LC</th>\n",
       "      <td>1.00</td>\n",
       "    </tr>\n",
       "    <tr>\n",
       "      <th>NU_NOTA_MT</th>\n",
       "      <td>0.57</td>\n",
       "    </tr>\n",
       "    <tr>\n",
       "      <th>NU_NOTA_COMP1</th>\n",
       "      <td>0.47</td>\n",
       "    </tr>\n",
       "    <tr>\n",
       "      <th>NU_NOTA_COMP2</th>\n",
       "      <td>0.49</td>\n",
       "    </tr>\n",
       "    <tr>\n",
       "      <th>NU_NOTA_COMP3</th>\n",
       "      <td>0.52</td>\n",
       "    </tr>\n",
       "    <tr>\n",
       "      <th>NU_NOTA_COMP4</th>\n",
       "      <td>0.46</td>\n",
       "    </tr>\n",
       "    <tr>\n",
       "      <th>NU_NOTA_COMP5</th>\n",
       "      <td>0.47</td>\n",
       "    </tr>\n",
       "    <tr>\n",
       "      <th>NU_NOTA_REDACAO</th>\n",
       "      <td>0.56</td>\n",
       "    </tr>\n",
       "  </tbody>\n",
       "</table>\n",
       "</div>"
      ],
      "text/plain": [
       "                         NU_NOTA_LC\n",
       "CO_MUNICIPIO_RESIDENCIA        0.15\n",
       "CO_UF_RESIDENCIA               0.15\n",
       "CO_MUNICIPIO_NASCIMENTO        0.16\n",
       "CO_UF_NASCIMENTO               0.16\n",
       "CO_ESCOLA                      0.16\n",
       "CO_MUNICIPIO_ESC               0.16\n",
       "CO_UF_ESC                      0.16\n",
       "TP_DEPENDENCIA_ADM_ESC         0.31\n",
       "CO_MUNICIPIO_PROVA             0.15\n",
       "CO_UF_PROVA                    0.15\n",
       "TP_PRESENCA_CN                 0.11\n",
       "TP_PRESENCA_MT                 0.11\n",
       "NU_NOTA_CN                     0.60\n",
       "NU_NOTA_CH                     0.70\n",
       "NU_NOTA_LC                     1.00\n",
       "NU_NOTA_MT                     0.57\n",
       "NU_NOTA_COMP1                  0.47\n",
       "NU_NOTA_COMP2                  0.49\n",
       "NU_NOTA_COMP3                  0.52\n",
       "NU_NOTA_COMP4                  0.46\n",
       "NU_NOTA_COMP5                  0.47\n",
       "NU_NOTA_REDACAO                0.56"
      ]
     },
     "execution_count": 7,
     "metadata": {},
     "output_type": "execute_result"
    }
   ],
   "source": [
    "dff_cor.query('NU_NOTA_LC >=0.10')"
   ]
  },
  {
   "cell_type": "markdown",
   "id": "committed-brisbane",
   "metadata": {},
   "source": [
    "Selecionei algumas variáveis para esse projeto:<br>"
   ]
  },
  {
   "cell_type": "code",
   "execution_count": 8,
   "id": "living-cemetery",
   "metadata": {},
   "outputs": [],
   "source": [
    "col = ['NU_NOTA_CN','NU_NOTA_CH','NU_NOTA_LC','NU_NOTA_MT','NU_NOTA_REDACAO']"
   ]
  },
  {
   "cell_type": "code",
   "execution_count": 9,
   "id": "eastern-weight",
   "metadata": {},
   "outputs": [],
   "source": [
    "df1 = pd.DataFrame(df, columns = col)"
   ]
  },
  {
   "cell_type": "code",
   "execution_count": 10,
   "id": "lovely-drive",
   "metadata": {},
   "outputs": [
    {
     "name": "stdout",
     "output_type": "stream",
     "text": [
      "<class 'pandas.core.frame.DataFrame'>\n",
      "RangeIndex: 137844 entries, 0 to 137843\n",
      "Data columns (total 5 columns):\n",
      " #   Column           Non-Null Count   Dtype  \n",
      "---  ------           --------------   -----  \n",
      " 0   NU_NOTA_CN       97537 non-null   float64\n",
      " 1   NU_NOTA_CH       103774 non-null  float64\n",
      " 2   NU_NOTA_LC       103774 non-null  float64\n",
      " 3   NU_NOTA_MT       97537 non-null   float64\n",
      " 4   NU_NOTA_REDACAO  103774 non-null  float64\n",
      "dtypes: float64(5)\n",
      "memory usage: 5.3 MB\n"
     ]
    }
   ],
   "source": [
    "df1.info()"
   ]
  },
  {
   "cell_type": "markdown",
   "id": "major-advisory",
   "metadata": {},
   "source": [
    "É possível ver que existem várias váriáveis com instãncias nulas. Irei excluí-las:"
   ]
  },
  {
   "cell_type": "code",
   "execution_count": 11,
   "id": "attended-grade",
   "metadata": {},
   "outputs": [],
   "source": [
    "df1 = df1.dropna(axis=0)"
   ]
  },
  {
   "cell_type": "code",
   "execution_count": 12,
   "id": "grand-exemption",
   "metadata": {},
   "outputs": [
    {
     "name": "stdout",
     "output_type": "stream",
     "text": [
      "<class 'pandas.core.frame.DataFrame'>\n",
      "Int64Index: 97270 entries, 1 to 137842\n",
      "Data columns (total 5 columns):\n",
      " #   Column           Non-Null Count  Dtype  \n",
      "---  ------           --------------  -----  \n",
      " 0   NU_NOTA_CN       97270 non-null  float64\n",
      " 1   NU_NOTA_CH       97270 non-null  float64\n",
      " 2   NU_NOTA_LC       97270 non-null  float64\n",
      " 3   NU_NOTA_MT       97270 non-null  float64\n",
      " 4   NU_NOTA_REDACAO  97270 non-null  float64\n",
      "dtypes: float64(5)\n",
      "memory usage: 4.5 MB\n"
     ]
    }
   ],
   "source": [
    "df1.info()"
   ]
  },
  {
   "cell_type": "markdown",
   "id": "british-seattle",
   "metadata": {},
   "source": [
    "Normalização dos dados com a fução StandardScaler do Scikit-learn"
   ]
  },
  {
   "cell_type": "code",
   "execution_count": 13,
   "id": "banner-tsunami",
   "metadata": {},
   "outputs": [
    {
     "data": {
      "text/plain": [
       "array([[ 0.39675648,  1.27212182,  1.97363259,  0.88838574],\n",
       "       [-1.13968784, -0.49808727, -0.94542437,  0.45382168],\n",
       "       [-0.55829407, -0.83031849,  0.09410642, -0.63258848],\n",
       "       ...,\n",
       "       [ 1.11304439,  0.49987444, -0.47140612,  1.64887285],\n",
       "       [-1.50120415, -0.46638582,  0.4007096 , -0.74122949],\n",
       "       [-0.5528983 , -0.78213229,  0.54671112, -1.17579356]])"
      ]
     },
     "execution_count": 13,
     "metadata": {},
     "output_type": "execute_result"
    }
   ],
   "source": [
    "var_norm = ['NU_NOTA_CN','NU_NOTA_CH','NU_NOTA_MT','NU_NOTA_REDACAO']\n",
    "from sklearn.preprocessing import StandardScaler\n",
    "sc = StandardScaler()\n",
    "sc.fit(df1[var_norm])\n",
    "sc.transform(df1[var_norm])"
   ]
  },
  {
   "cell_type": "code",
   "execution_count": 14,
   "id": "breathing-charter",
   "metadata": {},
   "outputs": [],
   "source": [
    "# Selecionando as variáveis para treino e teste.\n",
    "preditoras = df1[['NU_NOTA_CN','NU_NOTA_CH','NU_NOTA_MT','NU_NOTA_REDACAO']]\n",
    "target = df1['NU_NOTA_LC']"
   ]
  },
  {
   "cell_type": "code",
   "execution_count": 15,
   "id": "published-tenant",
   "metadata": {},
   "outputs": [],
   "source": [
    "from sklearn.model_selection import train_test_split\n",
    "from sklearn import metrics\n",
    "import matplotlib.pyplot as plt"
   ]
  },
  {
   "cell_type": "code",
   "execution_count": 16,
   "id": "cognitive-monitor",
   "metadata": {},
   "outputs": [],
   "source": [
    "Xtrain, Xtest, ytrain, ytest = train_test_split(preditoras, target, test_size=0.3, random_state = 1)"
   ]
  },
  {
   "cell_type": "code",
   "execution_count": 17,
   "id": "civic-steering",
   "metadata": {},
   "outputs": [
    {
     "data": {
      "text/plain": [
       "((68089, 4), (29181, 4), (68089,), (29181,))"
      ]
     },
     "execution_count": 17,
     "metadata": {},
     "output_type": "execute_result"
    }
   ],
   "source": [
    "Xtrain.shape, Xtest.shape, ytrain.shape, ytest.shape"
   ]
  },
  {
   "cell_type": "markdown",
   "id": "accredited-opportunity",
   "metadata": {},
   "source": [
    "#### Teste 1: Vamos aplicar um modelo clássico e direto sem o uso do Grid-Search."
   ]
  },
  {
   "cell_type": "code",
   "execution_count": 18,
   "id": "muslim-pasta",
   "metadata": {},
   "outputs": [],
   "source": [
    "from sklearn.linear_model import LinearRegression"
   ]
  },
  {
   "cell_type": "code",
   "execution_count": 19,
   "id": "portuguese-convention",
   "metadata": {},
   "outputs": [],
   "source": [
    "reg = LinearRegression()"
   ]
  },
  {
   "cell_type": "code",
   "execution_count": 20,
   "id": "pointed-reflection",
   "metadata": {},
   "outputs": [
    {
     "data": {
      "text/plain": [
       "LinearRegression()"
      ]
     },
     "execution_count": 20,
     "metadata": {},
     "output_type": "execute_result"
    }
   ],
   "source": [
    "reg.fit(Xtrain, ytrain)"
   ]
  },
  {
   "cell_type": "code",
   "execution_count": 21,
   "id": "broad-coast",
   "metadata": {},
   "outputs": [
    {
     "name": "stdout",
     "output_type": "stream",
     "text": [
      "Coefficients:  [0.17030562 0.38524428 0.10338151 0.07381535]\n"
     ]
    }
   ],
   "source": [
    "print('Coefficients: ', reg.coef_)"
   ]
  },
  {
   "cell_type": "code",
   "execution_count": 22,
   "id": "grave-perspective",
   "metadata": {},
   "outputs": [
    {
     "name": "stdout",
     "output_type": "stream",
     "text": [
      "Variance score: 0.5892835523436828\n"
     ]
    }
   ],
   "source": [
    "print('Variance score: {}'.format(reg.score(Xtest, ytest)))"
   ]
  },
  {
   "cell_type": "code",
   "execution_count": 23,
   "id": "outside-beads",
   "metadata": {},
   "outputs": [],
   "source": [
    "preds = reg.predict(Xtest)"
   ]
  },
  {
   "cell_type": "code",
   "execution_count": 24,
   "id": "talented-uganda",
   "metadata": {},
   "outputs": [],
   "source": [
    "from sklearn.metrics import mean_squared_error, r2_score"
   ]
  },
  {
   "cell_type": "code",
   "execution_count": 25,
   "id": "affected-salmon",
   "metadata": {},
   "outputs": [
    {
     "data": {
      "text/plain": [
       "2134.7257793663716"
      ]
     },
     "execution_count": 25,
     "metadata": {},
     "output_type": "execute_result"
    }
   ],
   "source": [
    "mean_squared_error(y_true=ytest,y_pred=preds)"
   ]
  },
  {
   "cell_type": "code",
   "execution_count": 26,
   "id": "after-agenda",
   "metadata": {},
   "outputs": [
    {
     "data": {
      "text/plain": [
       "0.5892835523436828"
      ]
     },
     "execution_count": 26,
     "metadata": {},
     "output_type": "execute_result"
    }
   ],
   "source": [
    "r2_score(y_true=ytest,y_pred=preds)"
   ]
  },
  {
   "cell_type": "markdown",
   "id": "indonesian-skill",
   "metadata": {},
   "source": [
    "Resultados: __MSE - 2134.72 e r2_score: 0.589__"
   ]
  },
  {
   "cell_type": "markdown",
   "id": "fifth-division",
   "metadata": {},
   "source": [
    "-------------------------------------------------------------------------------------------------------------------"
   ]
  },
  {
   "cell_type": "markdown",
   "id": "closed-penetration",
   "metadata": {},
   "source": [
    "#### Teste 2: Agora aplicando a técnica Grid-Search"
   ]
  },
  {
   "cell_type": "code",
   "execution_count": 27,
   "id": "neutral-dividend",
   "metadata": {},
   "outputs": [],
   "source": [
    "from sklearn.model_selection import GridSearchCV\n",
    "from sklearn.ensemble import RandomForestRegressor\n",
    "from sklearn.ensemble import GradientBoostingRegressor"
   ]
  },
  {
   "cell_type": "code",
   "execution_count": 28,
   "id": "crucial-college",
   "metadata": {},
   "outputs": [],
   "source": [
    "params_RF = {\"n_estimators\":[10,100], \"max_depth\":[2,10]}"
   ]
  },
  {
   "cell_type": "code",
   "execution_count": 29,
   "id": "greek-shelf",
   "metadata": {},
   "outputs": [],
   "source": [
    "class gridSearchAll():\n",
    "    \n",
    "    def __init__(self):\n",
    "        self.grid_models = []\n",
    "        self.scoring = 'cv'\n",
    "        self.cv = 3\n",
    "        \n",
    "    \n",
    "    def insert_model(self, estimator_base, param_grid):\n",
    "        self.grid_models.append([estimator_base, param_grid])\n",
    "        \n",
    "        \n",
    "    def fit_all(self,Xtrain, ytrain):\n",
    "        results = []\n",
    "        for i in self.grid_models:\n",
    "            modelo = i[0]\n",
    "            est = i[1]\n",
    "            grid = GridSearchCV(modelo,est,scoring = 'r2',cv = 3).fit(Xtrain,ytrain)\n",
    "            results.append(grid.best_score_)\n",
    "            a = print(\"score: \" , grid.best_score_, \"estimador: \",grid.best_estimator_)\n",
    "            b = print('\\n-----------------------------------------------------------\\n')\n",
    "        return a,b\n",
    "    \n",
    "    def best_all_grid_models(self,Xtrain, ytrain):\n",
    "        results = []\n",
    "        for i in self.grid_models:\n",
    "            modelo = i[0]\n",
    "            est = i[1]\n",
    "            grid = GridSearchCV(modelo,est,scoring = 'r2',cv = 3).fit(Xtrain,ytrain)\n",
    "            results.append(grid.best_score_)\n",
    "        # internamente o grid best_score retorna o melhor score\n",
    "        return grid.best_params_,grid.best_score_,grid.best_estimator_\n",
    "        print(\"score :\",grid.best_score_)\n",
    "        \n",
    "gd = gridSearchAll()"
   ]
  },
  {
   "cell_type": "code",
   "execution_count": 30,
   "id": "academic-billy",
   "metadata": {},
   "outputs": [
    {
     "data": {
      "text/plain": [
       "[]"
      ]
     },
     "execution_count": 30,
     "metadata": {},
     "output_type": "execute_result"
    }
   ],
   "source": [
    "gd.grid_models"
   ]
  },
  {
   "cell_type": "code",
   "execution_count": 31,
   "id": "organized-observation",
   "metadata": {},
   "outputs": [],
   "source": [
    "gd.insert_model(estimator_base = RandomForestRegressor(), param_grid = params_RF)\n",
    "gd.insert_model(estimator_base = GradientBoostingRegressor(), param_grid = params_RF)"
   ]
  },
  {
   "cell_type": "code",
   "execution_count": 32,
   "id": "living-scout",
   "metadata": {},
   "outputs": [
    {
     "name": "stdout",
     "output_type": "stream",
     "text": [
      "score:  0.6121625544856075 estimador:  RandomForestRegressor(max_depth=10)\n",
      "\n",
      "-----------------------------------------------------------\n",
      "\n",
      "score:  0.6143743435251927 estimador:  GradientBoostingRegressor(max_depth=2)\n",
      "\n",
      "-----------------------------------------------------------\n",
      "\n"
     ]
    },
    {
     "data": {
      "text/plain": [
       "(None, None)"
      ]
     },
     "execution_count": 32,
     "metadata": {},
     "output_type": "execute_result"
    }
   ],
   "source": [
    "gd.fit_all(Xtrain,ytrain)"
   ]
  },
  {
   "cell_type": "markdown",
   "id": "allied-evaluation",
   "metadata": {},
   "source": [
    "Acima foram listados os dois melhores parâmetros de acordo com o modelo de Machine Learning. Abaixo o melhor."
   ]
  },
  {
   "cell_type": "code",
   "execution_count": 33,
   "id": "moderate-stanley",
   "metadata": {},
   "outputs": [
    {
     "data": {
      "text/plain": [
       "({'max_depth': 2, 'n_estimators': 100},\n",
       " 0.6143743435251928,\n",
       " GradientBoostingRegressor(max_depth=2))"
      ]
     },
     "execution_count": 33,
     "metadata": {},
     "output_type": "execute_result"
    }
   ],
   "source": [
    "gd.best_all_grid_models(Xtrain, ytrain)"
   ]
  },
  {
   "cell_type": "code",
   "execution_count": 34,
   "id": "curious-paste",
   "metadata": {},
   "outputs": [],
   "source": [
    "# Aplicando a melhor arquitetura e parãmetros nos dados de teste.\n",
    "gbr = GradientBoostingRegressor(max_depth=2, n_estimators=100)"
   ]
  },
  {
   "cell_type": "code",
   "execution_count": 35,
   "id": "noble-service",
   "metadata": {},
   "outputs": [
    {
     "data": {
      "text/plain": [
       "GradientBoostingRegressor(max_depth=2)"
      ]
     },
     "execution_count": 35,
     "metadata": {},
     "output_type": "execute_result"
    }
   ],
   "source": [
    "gbr.fit(Xtrain, ytrain)"
   ]
  },
  {
   "cell_type": "code",
   "execution_count": 36,
   "id": "dimensional-mattress",
   "metadata": {},
   "outputs": [
    {
     "data": {
      "text/plain": [
       "array([512.77417118, 520.67244372, 574.12889781, ..., 479.80846775,\n",
       "       458.51882832, 493.45778913])"
      ]
     },
     "execution_count": 36,
     "metadata": {},
     "output_type": "execute_result"
    }
   ],
   "source": [
    "preds2 = gbr.predict(Xtest)\n",
    "preds2"
   ]
  },
  {
   "cell_type": "code",
   "execution_count": 37,
   "id": "respiratory-third",
   "metadata": {},
   "outputs": [
    {
     "data": {
      "text/plain": [
       "0.6112802020681514"
      ]
     },
     "execution_count": 37,
     "metadata": {},
     "output_type": "execute_result"
    }
   ],
   "source": [
    "result = gbr.score(Xtest, ytest)\n",
    "result"
   ]
  },
  {
   "cell_type": "markdown",
   "id": "victorian-johnston",
   "metadata": {},
   "source": [
    "Veja que com o uso do Grid-Search houve uma __melhora na assertividade de 0.589 para 0.611.__"
   ]
  },
  {
   "cell_type": "markdown",
   "id": "comparable-multiple",
   "metadata": {},
   "source": [
    "###################################################################################################################"
   ]
  },
  {
   "cell_type": "markdown",
   "id": "spatial-muscle",
   "metadata": {},
   "source": [
    "Gráfico dos dados de teste:"
   ]
  },
  {
   "cell_type": "code",
   "execution_count": 38,
   "id": "abandoned-diagnosis",
   "metadata": {},
   "outputs": [
    {
     "data": {
      "image/png": "[encoded data removed]",
      "text/plain": [
       "<Figure size 576x576 with 1 Axes>"
      ]
     },
     "metadata": {
      "needs_background": "light"
     },
     "output_type": "display_data"
    }
   ],
   "source": [
    "plt.figure(figsize=[8,8])\n",
    "plt.title(\"Modelo Final ~ SCORE: \" + str(np.round(result,2)), fontweight = 'bold', fontsize = 14)\n",
    "plt.scatter(ytest, preds2)\n",
    "plt.xlabel(\"Target Real - Dados de Teste\", fontweight = 'bold', fontsize = 14)\n",
    "plt.ylabel(\"Predições - Dados de Teste\", fontweight = 'bold', fontsize = 14)\n",
    "plt.grid()\n",
    "range_line = int(np.maximum(max(ytest), max(preds2)))\n",
    "plt.plot(range(1, range_line), range(1, range_line), '--' ,c = 'black', lw = 3)\n",
    "plt.show()"
   ]
  },
  {
   "cell_type": "markdown",
   "id": "large-annex",
   "metadata": {},
   "source": [
    "Comparando a nota real com a prevista pela metodologia Grid-Search:"
   ]
  },
  {
   "cell_type": "code",
   "execution_count": 56,
   "id": "fiscal-excellence",
   "metadata": {},
   "outputs": [
    {
     "data": {
      "text/html": [
       "<div>\n",
       "<style scoped>\n",
       "    .dataframe tbody tr th:only-of-type {\n",
       "        vertical-align: middle;\n",
       "    }\n",
       "\n",
       "    .dataframe tbody tr th {\n",
       "        vertical-align: top;\n",
       "    }\n",
       "\n",
       "    .dataframe thead th {\n",
       "        text-align: right;\n",
       "    }\n",
       "</style>\n",
       "<table border=\"1\" class=\"dataframe\">\n",
       "  <thead>\n",
       "    <tr style=\"text-align: right;\">\n",
       "      <th></th>\n",
       "      <th>NU_NOTA_LC</th>\n",
       "      <th>NOTA_PREVISTA_LC</th>\n",
       "    </tr>\n",
       "  </thead>\n",
       "  <tbody>\n",
       "    <tr>\n",
       "      <th>17493</th>\n",
       "      <td>589.9</td>\n",
       "      <td>512.774171</td>\n",
       "    </tr>\n",
       "    <tr>\n",
       "      <th>4443</th>\n",
       "      <td>484.4</td>\n",
       "      <td>520.672444</td>\n",
       "    </tr>\n",
       "    <tr>\n",
       "      <th>21375</th>\n",
       "      <td>573.9</td>\n",
       "      <td>574.128898</td>\n",
       "    </tr>\n",
       "    <tr>\n",
       "      <th>129283</th>\n",
       "      <td>467.7</td>\n",
       "      <td>459.442049</td>\n",
       "    </tr>\n",
       "    <tr>\n",
       "      <th>2470</th>\n",
       "      <td>619.3</td>\n",
       "      <td>590.659285</td>\n",
       "    </tr>\n",
       "    <tr>\n",
       "      <th>110953</th>\n",
       "      <td>599.5</td>\n",
       "      <td>516.212408</td>\n",
       "    </tr>\n",
       "    <tr>\n",
       "      <th>116173</th>\n",
       "      <td>621.9</td>\n",
       "      <td>584.952702</td>\n",
       "    </tr>\n",
       "    <tr>\n",
       "      <th>27535</th>\n",
       "      <td>613.7</td>\n",
       "      <td>562.417507</td>\n",
       "    </tr>\n",
       "    <tr>\n",
       "      <th>89520</th>\n",
       "      <td>554.9</td>\n",
       "      <td>539.812423</td>\n",
       "    </tr>\n",
       "    <tr>\n",
       "      <th>67817</th>\n",
       "      <td>548.5</td>\n",
       "      <td>485.878679</td>\n",
       "    </tr>\n",
       "  </tbody>\n",
       "</table>\n",
       "</div>"
      ],
      "text/plain": [
       "        NU_NOTA_LC  NOTA_PREVISTA_LC\n",
       "17493        589.9        512.774171\n",
       "4443         484.4        520.672444\n",
       "21375        573.9        574.128898\n",
       "129283       467.7        459.442049\n",
       "2470         619.3        590.659285\n",
       "110953       599.5        516.212408\n",
       "116173       621.9        584.952702\n",
       "27535        613.7        562.417507\n",
       "89520        554.9        539.812423\n",
       "67817        548.5        485.878679"
      ]
     },
     "execution_count": 56,
     "metadata": {},
     "output_type": "execute_result"
    }
   ],
   "source": [
    "dat = pd.DataFrame()\n",
    "dat['NU_NOTA_LC'] = ytest\n",
    "dat['NOTA_PREVISTA_LC'] = np.c_[preds2]\n",
    "dat.head(10)"
   ]
  },
  {
   "cell_type": "code",
   "execution_count": null,
   "id": "blank-roots",
   "metadata": {},
   "outputs": [],
   "source": []
  }
 ],
 "metadata": {
  "kernelspec": {
   "display_name": "Python 3",
   "language": "python",
   "name": "python3"
  },
  "language_info": {
   "codemirror_mode": {
    "name": "ipython",
    "version": 3
   },
   "file_extension": ".py",
   "mimetype": "text/x-python",
   "name": "python",
   "nbconvert_exporter": "python",
   "pygments_lexer": "ipython3",
   "version": "3.8.6"
  }
 },
 "nbformat": 4,
 "nbformat_minor": 5
}
